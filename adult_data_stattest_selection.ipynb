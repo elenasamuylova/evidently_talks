{
 "cells": [
  {
   "cell_type": "markdown",
   "metadata": {},
   "source": [
    "# Statistical Tests"
   ]
  },
  {
   "cell_type": "code",
   "execution_count": null,
   "metadata": {
    "id": "T62TSgZPcT-W"
   },
   "outputs": [],
   "source": [
    "import pandas as pd\n",
    "import numpy as np\n",
    "\n",
    "from scipy.stats import anderson_ksamp\n",
    "from sklearn.datasets import fetch_openml\n",
    "\n",
    "from evidently import ColumnMapping\n",
    "from evidently.calculations.stattests import StatTest\n",
    "from evidently.dashboard import Dashboard\n",
    "from evidently.dashboard.tabs import DataDriftTab, CatTargetDriftTab\n",
    "from evidently.options import DataDriftOptions"
   ]
  },
  {
   "cell_type": "code",
   "execution_count": null,
   "metadata": {},
   "outputs": [],
   "source": [
    "import warnings\n",
    "warnings.filterwarnings('ignore')\n",
    "warnings.simplefilter('ignore')"
   ]
  },
  {
   "cell_type": "markdown",
   "metadata": {},
   "source": [
    "## Adult Dataset"
   ]
  },
  {
   "cell_type": "code",
   "execution_count": null,
   "metadata": {
    "id": "HBcdX-kXcgsW"
   },
   "outputs": [],
   "source": [
    "data = fetch_openml(name='adult', version=2, as_frame='auto')\n",
    "df = data.frame\n",
    "df.head()"
   ]
  },
  {
   "cell_type": "markdown",
   "metadata": {
    "id": "TO8D5GudgODA"
   },
   "source": [
    "Let's add two features to illustrate, that we choose stat test depending not just on its type, but also on a number of unique values.\n",
    "\n",
    "Also, we will keep in mind that these features are absolutely random, so we don't expect any drift here."
   ]
  },
  {
   "cell_type": "code",
   "execution_count": null,
   "metadata": {
    "id": "vPCce_gEc40t"
   },
   "outputs": [],
   "source": [
    "df['num_feature_with_3_values'] = np.random.choice(3, df.shape[0])\n",
    "df['num_feature_with_2_values'] = np.random.choice(2, df.shape[0])"
   ]
  },
  {
   "cell_type": "code",
   "execution_count": null,
   "metadata": {},
   "outputs": [],
   "source": [
    "df.head()"
   ]
  },
  {
   "cell_type": "markdown",
   "metadata": {},
   "source": [
    "# Automatic Statistical Test Selection"
   ]
  },
  {
   "cell_type": "code",
   "execution_count": null,
   "metadata": {
    "id": "XPsVNk2QdfIk"
   },
   "outputs": [],
   "source": [
    "numerical_features = ['age', 'fnlwgt', 'education-num', 'capital-gain', 'capital-loss', \n",
    "                      'hours-per-week', 'num_feature_with_3_values', 'num_feature_with_2_values']\n",
    "\n",
    "categorical_features = ['workclass', 'education', 'marital-status', 'occupation', 'relationship', \n",
    "                        'race', 'sex', 'native-country']\n",
    "\n",
    "column_mapping = ColumnMapping(numerical_features=numerical_features, \n",
    "                               categorical_features=categorical_features,\n",
    "                               task='classification', target='class')"
   ]
  },
  {
   "cell_type": "markdown",
   "metadata": {
    "id": "glHip93yd7RN"
   },
   "source": [
    "## Small dataset with <= 1k observations"
   ]
  },
  {
   "cell_type": "markdown",
   "metadata": {
    "id": "ryB6Y0Uoes4I"
   },
   "source": [
    "### no drift\n",
    "We created 2 small random samples, so we do not expect to see a lot of drift here."
   ]
  },
  {
   "cell_type": "code",
   "execution_count": null,
   "metadata": {
    "id": "S-FEA-d-d0t5"
   },
   "outputs": [],
   "source": [
    "data_drift_dashboard = Dashboard(tabs=[DataDriftTab()])\n",
    "data_drift_dashboard.calculate(df.sample(50, random_state=0), \n",
    "                               df.sample(50, random_state=10), column_mapping=column_mapping)\n",
    "data_drift_dashboard.show()"
   ]
  },
  {
   "cell_type": "markdown",
   "metadata": {
    "id": "S3YXTnzZvnuH"
   },
   "source": [
    "When you're working with small datasets, it's more likely that you'll get different distributions by chance. But it can also be concluded that statistical tests are quite sensitive."
   ]
  },
  {
   "cell_type": "markdown",
   "metadata": {
    "id": "vWakwd0Ke3cO"
   },
   "source": [
    "### data shifted\n",
    "We split data in 2 samples by relationship status, so we do expect to see some drift here."
   ]
  },
  {
   "cell_type": "code",
   "execution_count": null,
   "metadata": {
    "id": "GOryi4xVeJFy"
   },
   "outputs": [],
   "source": [
    "data_drift_dashboard = Dashboard(tabs=[DataDriftTab()])\n",
    "data_drift_dashboard.calculate(df[df.relationship.isin(['Husband', 'Wife'])].sample(1000, random_state=0), \n",
    "                               df[~df.relationship.isin(['Husband', 'Wife'])].sample(1000, random_state=10), column_mapping=column_mapping)\n",
    "data_drift_dashboard.show()"
   ]
  },
  {
   "cell_type": "markdown",
   "metadata": {
    "id": "cYW_LcVWfH4m"
   },
   "source": [
    "## Big dataset with > 1k observations"
   ]
  },
  {
   "cell_type": "markdown",
   "metadata": {
    "id": "uHd2E4YBfLVI"
   },
   "source": [
    "### no drift\n",
    "We created 2 random samples, so we do not expect to see a lot of drift here."
   ]
  },
  {
   "cell_type": "code",
   "execution_count": null,
   "metadata": {
    "id": "P9OJNB69eJJU"
   },
   "outputs": [],
   "source": [
    "data_drift_dashboard = Dashboard(tabs=[DataDriftTab()])\n",
    "data_drift_dashboard.calculate(df.sample(30000, random_state=0), \n",
    "                               df.sample(30000, random_state=10), column_mapping=column_mapping)\n",
    "data_drift_dashboard.show()"
   ]
  },
  {
   "cell_type": "markdown",
   "metadata": {
    "id": "nvjSRab5fa2O"
   },
   "source": [
    "### data shifted\n",
    "We split data in 2 samples by relationship status, so we do expect to see some drift here."
   ]
  },
  {
   "cell_type": "code",
   "execution_count": null,
   "metadata": {
    "id": "x25KY4k1eJTI"
   },
   "outputs": [],
   "source": [
    "data_drift_dashboard = Dashboard(tabs=[DataDriftTab()])\n",
    "data_drift_dashboard.calculate(df[df.relationship.isin(['Husband', 'Wife'])].sample(30000, random_state=0, replace=True), \n",
    "                               df[~df.relationship.isin(['Husband', 'Wife'])].sample(30000, random_state=10, replace=True), \n",
    "                               column_mapping=column_mapping)\n",
    "data_drift_dashboard.show()"
   ]
  },
  {
   "cell_type": "markdown",
   "metadata": {
    "id": "eh9_aL-yfl57"
   },
   "source": [
    "# Statistical Test for All, Numerical and Categorical Features"
   ]
  },
  {
   "cell_type": "code",
   "execution_count": null,
   "metadata": {},
   "outputs": [],
   "source": [
    "stat_test_option = DataDriftOptions(all_features_stattest='psi')"
   ]
  },
  {
   "cell_type": "code",
   "execution_count": null,
   "metadata": {},
   "outputs": [],
   "source": [
    "stat_test_option = DataDriftOptions(per_feature_stattest={'class':'psi', 'age':'ks'})"
   ]
  },
  {
   "cell_type": "code",
   "execution_count": null,
   "metadata": {},
   "outputs": [],
   "source": [
    "data_drift_dashboard = Dashboard(tabs=[DataDriftTab()], options=[stat_test_option])\n",
    "data_drift_dashboard.calculate(df.sample(50, random_state=0), \n",
    "                               df.sample(50, random_state=10), column_mapping=column_mapping)\n",
    "data_drift_dashboard.show()"
   ]
  },
  {
   "cell_type": "markdown",
   "metadata": {},
   "source": [
    "# Custom Statistical Test "
   ]
  },
  {
   "cell_type": "code",
   "execution_count": null,
   "metadata": {},
   "outputs": [],
   "source": [
    "def _anderson_stat_test(reference_data: pd.Series, current_data: pd.Series, _feature_type: str, threshold: float):\n",
    "    p_value = anderson_ksamp(np.array([reference_data, current_data]))[2]\n",
    "    return p_value, p_value < threshold\n",
    "\n",
    "anderson_stat_test = StatTest(\n",
    "    name=\"anderson\",\n",
    "    display_name=\"Anderson test (p_value)\",\n",
    "    func=_anderson_stat_test,\n",
    "    allowed_feature_types=[\"num\"]\n",
    ")"
   ]
  },
  {
   "cell_type": "code",
   "execution_count": null,
   "metadata": {},
   "outputs": [],
   "source": [
    "stat_test_option = DataDriftOptions(num_features_stattest=anderson_stat_test)"
   ]
  },
  {
   "cell_type": "code",
   "execution_count": null,
   "metadata": {},
   "outputs": [],
   "source": [
    "data_drift_dashboard = Dashboard(tabs=[DataDriftTab()], options=[stat_test_option])\n",
    "data_drift_dashboard.calculate(df.sample(50, random_state=0), \n",
    "                               df.sample(50, random_state=10), column_mapping=column_mapping)\n",
    "data_drift_dashboard.show()"
   ]
  },
  {
   "cell_type": "markdown",
   "metadata": {},
   "source": [
    "# Statistical Test for Target"
   ]
  },
  {
   "cell_type": "code",
   "execution_count": null,
   "metadata": {},
   "outputs": [],
   "source": [
    "target_drift_dashboard = Dashboard(tabs=[CatTargetDriftTab()])\n",
    "target_drift_dashboard.calculate(df.sample(50, random_state=0), \n",
    "                               df.sample(50, random_state=10), column_mapping=column_mapping)\n",
    "target_drift_dashboard.show()"
   ]
  },
  {
   "cell_type": "code",
   "execution_count": null,
   "metadata": {},
   "outputs": [],
   "source": []
  }
 ],
 "metadata": {
  "colab": {
   "collapsed_sections": [
    "ryB6Y0Uoes4I",
    "vWakwd0Ke3cO",
    "uHd2E4YBfLVI",
    "nvjSRab5fa2O"
   ],
   "name": "default_stattest_adult.ipynb",
   "provenance": []
  },
  "kernelspec": {
   "display_name": "Python 3 (ipykernel)",
   "language": "python",
   "name": "python3"
  },
  "language_info": {
   "codemirror_mode": {
    "name": "ipython",
    "version": 3
   },
   "file_extension": ".py",
   "mimetype": "text/x-python",
   "name": "python",
   "nbconvert_exporter": "python",
   "pygments_lexer": "ipython3",
   "version": "3.9.12"
  }
 },
 "nbformat": 4,
 "nbformat_minor": 1
}
